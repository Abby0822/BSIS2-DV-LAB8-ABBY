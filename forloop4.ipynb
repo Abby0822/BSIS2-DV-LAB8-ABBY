{
  "nbformat": 4,
  "nbformat_minor": 0,
  "metadata": {
    "colab": {
      "provenance": [],
      "authorship_tag": "ABX9TyNOMjuj866lWiYeIsR78KBk",
      "include_colab_link": true
    },
    "kernelspec": {
      "name": "python3",
      "display_name": "Python 3"
    },
    "language_info": {
      "name": "python"
    }
  },
  "cells": [
    {
      "cell_type": "markdown",
      "metadata": {
        "id": "view-in-github",
        "colab_type": "text"
      },
      "source": [
        "<a href=\"https://colab.research.google.com/github/Abby0822/BSIS2-DV-LAB8-ABBY/blob/BSIS2-DV-LAB1-ABBY/forloop4.ipynb\" target=\"_parent\"><img src=\"https://colab.research.google.com/assets/colab-badge.svg\" alt=\"Open In Colab\"/></a>"
      ]
    },
    {
      "cell_type": "code",
      "source": [
        "dataAnalyticsTools=['Excel','Phyton','R','Rapid Miner']\n",
        "for i in range(len(dataAnalyticsTools)):\n",
        "  print(dataAnalyticsTools[i])"
      ],
      "metadata": {
        "colab": {
          "base_uri": "https://localhost:8080/"
        },
        "id": "tDj-nQK9lf_1",
        "outputId": "0323ce52-d619-4df1-dcef-21f6eb244ac3"
      },
      "execution_count": 7,
      "outputs": [
        {
          "output_type": "stream",
          "name": "stdout",
          "text": [
            "Excel\n",
            "Phyton\n",
            "R\n",
            "Rapid Miner\n"
          ]
        }
      ]
    }
  ]
}