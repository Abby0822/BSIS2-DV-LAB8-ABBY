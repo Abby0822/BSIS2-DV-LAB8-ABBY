{
  "nbformat": 4,
  "nbformat_minor": 0,
  "metadata": {
    "colab": {
      "provenance": [],
      "authorship_tag": "ABX9TyNb6GNnvD2Y6B7dJKb8W1MD",
      "include_colab_link": true
    },
    "kernelspec": {
      "name": "python3",
      "display_name": "Python 3"
    },
    "language_info": {
      "name": "python"
    }
  },
  "cells": [
    {
      "cell_type": "markdown",
      "metadata": {
        "id": "view-in-github",
        "colab_type": "text"
      },
      "source": [
        "<a href=\"https://colab.research.google.com/github/Abby0822/BSIS2-DV-LAB8-ABBY/blob/BSIS2-DV-LAB1-ABBY/forloop0.ipynb\" target=\"_parent\"><img src=\"https://colab.research.google.com/assets/colab-badge.svg\" alt=\"Open In Colab\"/></a>"
      ]
    },
    {
      "cell_type": "code",
      "source": [
        "myName=\"Abigail\"\n",
        "for x in myName:\n",
        "  print(x)"
      ],
      "metadata": {
        "id": "8YrDgtBHN_Co",
        "colab": {
          "base_uri": "https://localhost:8080/"
        },
        "outputId": "5aff262e-967b-4353-90f8-6ddce0768060"
      },
      "execution_count": 2,
      "outputs": [
        {
          "output_type": "stream",
          "name": "stdout",
          "text": [
            "A\n",
            "b\n",
            "i\n",
            "g\n",
            "a\n",
            "i\n",
            "l\n"
          ]
        }
      ]
    }
  ]
}